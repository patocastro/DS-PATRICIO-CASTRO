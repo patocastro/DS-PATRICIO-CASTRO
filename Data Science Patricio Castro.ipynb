{
 "cells": [
  {
   "cell_type": "markdown",
   "id": "e0df547c",
   "metadata": {},
   "source": [
    "# Data Science Patricio Castro"
   ]
  },
  {
   "cell_type": "markdown",
   "id": "0d810792",
   "metadata": {},
   "source": [
    "## Introduction\n",
    "In this notebook, I will cover the essential components of the data science field, including languages, libraries, tools, and basic arithmetic operations.\n"
   ]
  },
  {
   "cell_type": "markdown",
   "id": "42d8f4dd",
   "metadata": {},
   "source": [
    "### Data Science Languages\n",
    "- Python\n",
    "- R\n",
    "- SQL\n",
    "- Julia"
   ]
  },
  {
   "cell_type": "markdown",
   "id": "54d022ab",
   "metadata": {},
   "source": [
    "### Data Science Libraries\n",
    "- Pandas\n",
    "- NumPy\n",
    "- Matplotlib\n",
    "- Scikit-learn\n",
    "- TensorFlow"
   ]
  },
  {
   "cell_type": "markdown",
   "id": "64c6619f",
   "metadata": {},
   "source": [
    "### Data Science Tools\n",
    "| Tool            | Description                      |\n",
    "|-----------------|----------------------------------|\n",
    "| Jupyter         | Interactive computing environment|\n",
    "| RStudio         | IDE for R programming language   |\n",
    "| Apache Spark    | Distributed data processing tool |\n",
    "| TensorFlow      | Deep learning framework          |"
   ]
  },
  {
   "cell_type": "markdown",
   "id": "815461fb",
   "metadata": {},
   "source": [
    "## Arithmetic Operations\n",
    "Below are some examples of basic arithmetic expressions, such as multiplication and addition.\n"
   ]
  },
  {
   "cell_type": "code",
   "execution_count": 1,
   "id": "4e57bea6",
   "metadata": {},
   "outputs": [
    {
     "data": {
      "text/plain": [
       "55"
      ]
     },
     "execution_count": 1,
     "metadata": {},
     "output_type": "execute_result"
    }
   ],
   "source": [
    "# Multiply and add two numbers\n",
    "a = 5\n",
    "b = 10\n",
    "c = a * b + a\n",
    "c"
   ]
  },
  {
   "cell_type": "code",
   "execution_count": 2,
   "id": "4e5de39c",
   "metadata": {},
   "outputs": [
    {
     "data": {
      "text/plain": [
       "3.3333333333333335"
      ]
     },
     "execution_count": 2,
     "metadata": {},
     "output_type": "execute_result"
    }
   ],
   "source": [
    "# Convert minutes to hours\n",
    "minutes = 200\n",
    "hours = minutes / 60\n",
    "hours"
   ]
  },
  {
   "cell_type": "markdown",
   "id": "c35af122",
   "metadata": {},
   "source": [
    "## Objectives\n",
    "- Understand the main data science languages and libraries\n",
    "- Learn basic arithmetic operations in Python\n",
    "- Familiarize with common data science tools"
   ]
  },
  {
   "cell_type": "markdown",
   "id": "f0e659c9",
   "metadata": {},
   "source": [
    "## Author\n",
    "Patricio Castro"
   ]
  }
 ],
 "metadata": {
  "kernelspec": {
   "display_name": "Python 3 (ipykernel)",
   "language": "python",
   "name": "python3"
  },
  "language_info": {
   "codemirror_mode": {
    "name": "ipython",
    "version": 3
   },
   "file_extension": ".py",
   "mimetype": "text/x-python",
   "name": "python",
   "nbconvert_exporter": "python",
   "pygments_lexer": "ipython3",
   "version": "3.11.3"
  }
 },
 "nbformat": 4,
 "nbformat_minor": 5
}
